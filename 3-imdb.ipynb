{
 "cells": [
  {
   "cell_type": "markdown",
   "metadata": {
    "colab_type": "text",
    "id": "ItXfxkxvosLH"
   },
   "source": [
    "# Classifying movie reviews with tf.keras and tf.data\n",
    "\n",
    "In this notebook you'll learn how to classify a movie review as positive or negative on the [IMDB dataset](https://www.tensorflow.org/api_docs/python/tf/keras/datasets/imdb). This tutorial was inspired by [this work](https://github.com/fchollet/deep-learning-with-python-notebooks/blob/master/3.5-classifying-movie-reviews.ipynb). Here, we'll continue to use `tf.keras` and `tf.data`."
   ]
  },
  {
   "cell_type": "code",
   "execution_count": 1,
   "metadata": {
    "colab": {
     "autoexec": {
      "startup": false,
      "wait_interval": 0
     }
    },
    "colab_type": "code",
    "id": "2ew7HTbPpCJH"
   },
   "outputs": [],
   "source": [
    "import tensorflow as tf\n",
    "\n",
    "import numpy as np"
   ]
  },
  {
   "cell_type": "markdown",
   "metadata": {
    "colab_type": "text",
    "id": "iAsKG535pHep"
   },
   "source": [
    "# A first look at the dataset\n",
    "\n",
    "### Step 1) Downloading the dataset\n",
    "\n",
    "The \"IMDB dataset\" is a set of around 50,000 positive or negative reviews for movies from the Internet Movie Database. Let's use the TensorFlow API to download the dataset the same way we did for Fashion-MNIST. The `num_words` argument is how many of the most popular words we will keep. All other \"rare\" words will be discarded."
   ]
  },
  {
   "cell_type": "code",
   "execution_count": 2,
   "metadata": {
    "colab": {
     "autoexec": {
      "startup": false,
      "wait_interval": 0
     }
    },
    "colab_type": "code",
    "id": "zXXx5Oc3pOmN"
   },
   "outputs": [],
   "source": [
    "(train_data, train_labels), (test_data, test_labels) = tf.keras.datasets.imdb.load_data(num_words=10000)"
   ]
  },
  {
   "cell_type": "markdown",
   "metadata": {
    "colab_type": "text",
    "id": "l50X3GfjpU4r"
   },
   "source": [
    "### Step 2) Exploring the dataset \n",
    "\n",
    "The dataset comes preprocessed. Each example is an array of integers representing the words of the movie review. Each label is either a \"0\" for negative or \"1\" for positive."
   ]
  },
  {
   "cell_type": "code",
   "execution_count": 3,
   "metadata": {
    "colab": {
     "autoexec": {
      "startup": false,
      "wait_interval": 0
     }
    },
    "colab_type": "code",
    "id": "QtTS4kpEpjbi"
   },
   "outputs": [
    {
     "name": "stdout",
     "output_type": "stream",
     "text": [
      "(25000,)\n",
      "(25000,)\n",
      "[1, 14, 22, 16, 43, 530, 973, 1622, 1385, 65, 458, 4468, 66, 3941, 4, 173, 36, 256, 5, 25, 100, 43, 838, 112, 50, 670, 2, 9, 35, 480, 284, 5, 150, 4, 172, 112, 167, 2, 336, 385, 39, 4, 172, 4536, 1111, 17, 546, 38, 13, 447, 4, 192, 50, 16, 6, 147, 2025, 19, 14, 22, 4, 1920, 4613, 469, 4, 22, 71, 87, 12, 16, 43, 530, 38, 76, 15, 13, 1247, 4, 22, 17, 515, 17, 12, 16, 626, 18, 2, 5, 62, 386, 12, 8, 316, 8, 106, 5, 4, 2223, 5244, 16, 480, 66, 3785, 33, 4, 130, 12, 16, 38, 619, 5, 25, 124, 51, 36, 135, 48, 25, 1415, 33, 6, 22, 12, 215, 28, 77, 52, 5, 14, 407, 16, 82, 2, 8, 4, 107, 117, 5952, 15, 256, 4, 2, 7, 3766, 5, 723, 36, 71, 43, 530, 476, 26, 400, 317, 46, 7, 4, 2, 1029, 13, 104, 88, 4, 381, 15, 297, 98, 32, 2071, 56, 26, 141, 6, 194, 7486, 18, 4, 226, 22, 21, 134, 476, 26, 480, 5, 144, 30, 5535, 18, 51, 36, 28, 224, 92, 25, 104, 4, 226, 65, 16, 38, 1334, 88, 12, 16, 283, 5, 16, 4472, 113, 103, 32, 15, 16, 5345, 19, 178, 32]\n",
      "1\n"
     ]
    }
   ],
   "source": [
    "print(train_data.shape)\n",
    "print(train_labels.shape)\n",
    "print(train_data[0])\n",
    "print(train_labels[0])"
   ]
  },
  {
   "cell_type": "markdown",
   "metadata": {
    "colab_type": "text",
    "id": "3KmM0e64pok8"
   },
   "source": [
    "\n",
    "### Word indexing\n",
    "\n",
    "To prove we have limited ourselves to the 10,000 most frequent words we will iterate over all the reviews and check the maximum value. "
   ]
  },
  {
   "cell_type": "code",
   "execution_count": 4,
   "metadata": {
    "colab": {
     "autoexec": {
      "startup": false,
      "wait_interval": 0
     }
    },
    "colab_type": "code",
    "id": "GvgpnR2ppqHd"
   },
   "outputs": [
    {
     "name": "stdout",
     "output_type": "stream",
     "text": [
      "9999\n"
     ]
    }
   ],
   "source": [
    "print(max([max(review) for review in train_data]))"
   ]
  },
  {
   "cell_type": "markdown",
   "metadata": {
    "colab_type": "text",
    "id": "4wJg2FiYpuoX"
   },
   "source": [
    "### Converting the integers back to words\n",
    "\n",
    "We can get the dictionary from `tf.keras.datasets.imdb.get_word_index` which hashes the words to their corresponding integers. Let's try and convert a review from integers back into it's original text by first reversing this dictionary and then iterating over a review and converting the integers to strings."
   ]
  },
  {
   "cell_type": "code",
   "execution_count": 5,
   "metadata": {
    "colab": {
     "autoexec": {
      "startup": false,
      "wait_interval": 0
     }
    },
    "colab_type": "code",
    "id": "tr5s_1alpzop"
   },
   "outputs": [
    {
     "name": "stdout",
     "output_type": "stream",
     "text": [
      "['fawn', 'tsukino', 'nunnery', 'sonja', 'vani', 'woods', 'spiders', 'hanging', 'woody', 'trawling']\n",
      "the\n",
      "and\n",
      "UNK this film was just brilliant casting location scenery story direction everyone's really suited the part they played and you could just imagine being there robert UNK is an amazing actor and now the same being director UNK father came from the same scottish island as myself so i loved the fact there was a real connection with this film the witty remarks throughout the film were great it was just brilliant so much that i bought the film as soon as it was released for UNK and would recommend it to everyone to watch and the fly fishing was amazing really cried at the end it was so sad and you know what they say if you cry at a film it must have been good and this definitely was also UNK to the two little boy's that played the UNK of norman and paul they were just brilliant children are often left out of the UNK list i think because the stars that play them all grown up are such a big profile for the whole film but these children are amazing and should be praised for what they have done don't you think the whole story was so lovely because it was true and was someone's life after all that was shared with us all\n"
     ]
    }
   ],
   "source": [
    "# Dictionary that hashes words to their integer\n",
    "word_to_integer = tf.keras.datasets.imdb.get_word_index()\n",
    "\n",
    "# Print out the first ten keys in the dictionary\n",
    "print(list(word_to_integer.keys())[0:10])\n",
    "\n",
    "integer_to_word = dict([(value, key) for (key, value) in word_to_integer.items()])\n",
    "\n",
    "# Demonstrate how to find the word from an integer\n",
    "print(integer_to_word[1])\n",
    "print(integer_to_word[2])\n",
    "\n",
    "# We need to subtract 3 from the indices because 0 is \"padding\", 1 is \"start of sequence\", and 2 is \"unknown\"\n",
    "decoded_review = ' '.join([integer_to_word.get(i - 3, 'UNK') for i in train_data[0]])\n",
    "print(decoded_review)"
   ]
  },
  {
   "cell_type": "markdown",
   "metadata": {
    "colab_type": "text",
    "id": "lFP_XKVRp4_S"
   },
   "source": [
    "### Step 3) Format the data\n",
    "Unfortunately, we cannot just feed unformatted arrays into our neural network. We need to standardize the input. Here, we are going to multi-hot-encode our review which is an array of integers into a 10,000 dimensional vector. We will place 1's in the indices of word-integers that occur in the review, and 0's everywhere else.\n"
   ]
  },
  {
   "cell_type": "code",
   "execution_count": 6,
   "metadata": {
    "colab": {
     "autoexec": {
      "startup": false,
      "wait_interval": 0
     }
    },
    "colab_type": "code",
    "id": "NG4K-OtdqC0a"
   },
   "outputs": [
    {
     "name": "stdout",
     "output_type": "stream",
     "text": [
      "(25000, 10000)\n",
      "[0. 1. 1. ... 0. 0. 0.]\n"
     ]
    }
   ],
   "source": [
    "def vectorize_sequences(sequences, dimension=10000):\n",
    "    # Create an all-zero matrix of shape (len(sequences), dimension)\n",
    "    results = np.zeros((len(sequences), dimension), dtype=np.float32)\n",
    "    for i, sequence in enumerate(sequences):\n",
    "        results[i, sequence] = 1.  # set specific indices of results[i] to 1s\n",
    "    return results\n",
    "\n",
    "train_data = vectorize_sequences(train_data)\n",
    "test_data = vectorize_sequences(test_data)\n",
    "\n",
    "print(train_data.shape) # length is same as before\n",
    "print(train_data[0]) # now, multi-hot encoded\n",
    "\n",
    "# Vectorize the labels as well and reshape from (N, ) to (N, 1)\n",
    "train_labels = np.reshape(np.asarray(train_labels, dtype=np.float32), (len(train_data), 1))\n",
    "test_labels = np.reshape(np.asarray(test_labels, dtype=np.float32), (len(test_data), 1))"
   ]
  },
  {
   "cell_type": "markdown",
   "metadata": {
    "colab_type": "text",
    "id": "jeYlLZlrqYjq"
   },
   "source": [
    "### Step 4) Create the model\n",
    "\n",
    "Now that we have vectorized input, we're ready to build our neural network. We're going to use multiple hidden layers, each with 16 hidden units. The more layers and hidden units you have, the more complicated patterns the network can recognize and learn. \n",
    "\n",
    "* The downside is that a large number potentially leads to [overfitting](https://developers.google.com/machine-learning/crash-course/generalization/peril-of-overfitting) by finding patterns that may only exist in your training not (and not generalize to unseen testing data down the road).\n",
    "\n",
    "Instead of softmax as in the previous notebook, here our last activation will be a sigmoid. This will take the output of the first two layers and \"squish\" it into a number between 0 and 1 (the network's prediction for the review)."
   ]
  },
  {
   "cell_type": "code",
   "execution_count": 7,
   "metadata": {
    "colab": {
     "autoexec": {
      "startup": false,
      "wait_interval": 0
     }
    },
    "colab_type": "code",
    "id": "uVOGq_eirutM"
   },
   "outputs": [
    {
     "name": "stdout",
     "output_type": "stream",
     "text": [
      "Model: \"sequential\"\n",
      "_________________________________________________________________\n",
      "Layer (type)                 Output Shape              Param #   \n",
      "=================================================================\n",
      "dense (Dense)                (None, 16)                160016    \n",
      "_________________________________________________________________\n",
      "dense_1 (Dense)              (None, 16)                272       \n",
      "_________________________________________________________________\n",
      "dense_2 (Dense)              (None, 1)                 17        \n",
      "=================================================================\n",
      "Total params: 160,305\n",
      "Trainable params: 160,305\n",
      "Non-trainable params: 0\n",
      "_________________________________________________________________\n"
     ]
    }
   ],
   "source": [
    "# Create a model\n",
    "model = tf.keras.Sequential()\n",
    "\n",
    " # input shape here is the length of our movie review vector\n",
    "model.add(tf.keras.layers.Dense(16, activation=tf.nn.relu, input_shape=(10000,)))\n",
    "model.add(tf.keras.layers.Dense(16, activation=tf.nn.relu))\n",
    "model.add(tf.keras.layers.Dense(1, activation=tf.nn.sigmoid))\n",
    "\n",
    "optimizer = tf.keras.optimizers.RMSprop(learning_rate=0.001)\n",
    "\n",
    "model.compile(loss='binary_crossentropy',\n",
    "              optimizer=optimizer,\n",
    "              metrics=['binary_accuracy'])\n",
    "\n",
    "model.summary()"
   ]
  },
  {
   "cell_type": "markdown",
   "metadata": {
    "colab_type": "text",
    "id": "nIBgYoE1sCmw"
   },
   "source": [
    "### Step 5) Create a validation set\n",
    "\n",
    "We want to test our model on data it hasn't seen before, but before we get our final test accuracy. We'll call this dataset our validation set. In practice, it's used to tune parameters like your learning rate, or the number of layers / units in your model."
   ]
  },
  {
   "cell_type": "code",
   "execution_count": 8,
   "metadata": {
    "colab": {
     "autoexec": {
      "startup": false,
      "wait_interval": 0
     }
    },
    "colab_type": "code",
    "id": "CfoGOjesswbb"
   },
   "outputs": [],
   "source": [
    "VAL_SIZE = 10000\n",
    "\n",
    "val_data = train_data[:VAL_SIZE]\n",
    "partial_train_data = train_data[VAL_SIZE:]\n",
    "\n",
    "\n",
    "val_labels = train_labels[:VAL_SIZE]\n",
    "partial_train_labels = train_labels[VAL_SIZE:]"
   ]
  },
  {
   "cell_type": "markdown",
   "metadata": {
    "colab_type": "text",
    "id": "GBvKRJIts5U4"
   },
   "source": [
    "### Step 6) Create a tf.data Dataset\n",
    "As before, we're working with a small in-memory dataset, so converting to `tf.data` isn't essential, just good practice for down the road. See the previous notebook or the `tf.data.Dataset` [API doc](https://www.tensorflow.org/api_docs/python/tf/data) for more info."
   ]
  },
  {
   "cell_type": "code",
   "execution_count": 9,
   "metadata": {
    "colab": {
     "autoexec": {
      "startup": false,
      "wait_interval": 0
     }
    },
    "colab_type": "code",
    "id": "dz9EDovvtGa6"
   },
   "outputs": [],
   "source": [
    "BATCH_SIZE = 512\n",
    "SHUFFLE_SIZE = 1000\n",
    "\n",
    "training_set = tf.data.Dataset.from_tensor_slices((partial_train_data, partial_train_labels))\n",
    "training_set = training_set.shuffle(SHUFFLE_SIZE).batch(BATCH_SIZE)"
   ]
  },
  {
   "cell_type": "markdown",
   "metadata": {
    "colab_type": "text",
    "id": "nh9l8Cdfte8g"
   },
   "source": [
    "### Step 7) Training your model\n",
    "Now we are going to train the model. As we go, we'll keep track of the training loss, training accuracy, validation loss, and validation accuracy. \n",
    "\n",
    "Please be patient as this step may take a while."
   ]
  },
  {
   "cell_type": "code",
   "execution_count": 10,
   "metadata": {
    "colab": {
     "autoexec": {
      "startup": false,
      "wait_interval": 0
     }
    },
    "colab_type": "code",
    "id": "_UVH5tQqtcxc"
   },
   "outputs": [
    {
     "name": "stdout",
     "output_type": "stream",
     "text": [
      "10000/10000==============================] - 1s 65us/sample - loss: 0.4030 - binary_accuracy: 0.8775\n",
      "Epoch #1\t Training Loss: 0.41\tTraining Accuracy: 0.87\tValidation Loss: 0.40\tValidation Accuracy: 0.88\n",
      "10000/10000==============================] - 1s 58us/sample - loss: 0.3094 - binary_accuracy: 0.8911\n",
      "Epoch #2\t Training Loss: 0.24\tTraining Accuracy: 0.91\tValidation Loss: 0.31\tValidation Accuracy: 0.89\n",
      "10000/10000==============================] - 1s 60us/sample - loss: 0.2805 - binary_accuracy: 0.8927\n",
      "Epoch #3\t Training Loss: 0.16\tTraining Accuracy: 0.95\tValidation Loss: 0.28\tValidation Accuracy: 0.89\n",
      "10000/10000==============================] - 1s 58us/sample - loss: 0.2739 - binary_accuracy: 0.8915\n",
      "Epoch #4\t Training Loss: 0.10\tTraining Accuracy: 0.96\tValidation Loss: 0.27\tValidation Accuracy: 0.89\n",
      "10000/10000==============================] - 1s 60us/sample - loss: 0.2773 - binary_accuracy: 0.8896\n",
      "Epoch #5\t Training Loss: 0.07\tTraining Accuracy: 0.99\tValidation Loss: 0.28\tValidation Accuracy: 0.89\n",
      "10000/10000==============================] - 1s 59us/sample - loss: 0.2883 - binary_accuracy: 0.8883\n",
      "Epoch #6\t Training Loss: 0.05\tTraining Accuracy: 0.99\tValidation Loss: 0.29\tValidation Accuracy: 0.89\n",
      "10000/10000==============================] - 1s 60us/sample - loss: 0.3029 - binary_accuracy: 0.8862\n",
      "Epoch #7\t Training Loss: 0.04\tTraining Accuracy: 1.00\tValidation Loss: 0.30\tValidation Accuracy: 0.89\n",
      "10000/10000==============================] - 1s 59us/sample - loss: 0.3207 - binary_accuracy: 0.8842\n",
      "Epoch #8\t Training Loss: 0.03\tTraining Accuracy: 0.99\tValidation Loss: 0.32\tValidation Accuracy: 0.88\n",
      "10000/10000==============================] - 1s 58us/sample - loss: 0.3424 - binary_accuracy: 0.8803\n",
      "Epoch #9\t Training Loss: 0.02\tTraining Accuracy: 1.00\tValidation Loss: 0.34\tValidation Accuracy: 0.88\n",
      "10000/10000==============================] - 1s 59us/sample - loss: 0.3671 - binary_accuracy: 0.8781\n",
      "Epoch #10\t Training Loss: 0.02\tTraining Accuracy: 1.00\tValidation Loss: 0.37\tValidation Accuracy: 0.88\n"
     ]
    }
   ],
   "source": [
    "EPOCHS = 10\n",
    "\n",
    "# Store list of metric values for plotting later\n",
    "tr_loss_list = []\n",
    "tr_accuracy_list = []\n",
    "val_loss_list = []\n",
    "val_accuracy_list = []\n",
    "\n",
    "for epoch in range(EPOCHS):\n",
    "    for reviews, labels in training_set:\n",
    "        # Calculate training loss and accuracy\n",
    "        tr_loss, tr_accuracy = model.train_on_batch(reviews, labels)\n",
    "  \n",
    "    # Calculate validation loss and accuracy\n",
    "    val_loss, val_accuracy = model.evaluate(val_data, val_labels)\n",
    "\n",
    "    # Add to the lists\n",
    "    tr_loss_list.append(tr_loss)\n",
    "    tr_accuracy_list.append(tr_accuracy)\n",
    "    val_loss_list.append(val_loss)\n",
    "    val_accuracy_list.append(val_accuracy)\n",
    "  \n",
    "    print(('Epoch #%d\\t Training Loss: %.2f\\tTraining Accuracy: %.2f\\t'\n",
    "           'Validation Loss: %.2f\\tValidation Accuracy: %.2f') % (epoch + 1,\n",
    "                                                                  tr_loss, \n",
    "                                                                  tr_accuracy,\n",
    "                                                                  val_loss,\n",
    "                                                                  val_accuracy))"
   ]
  },
  {
   "cell_type": "markdown",
   "metadata": {
    "colab_type": "text",
    "id": "xNzTBpLBvPPn"
   },
   "source": [
    "### Step 8) Plotting loss and accuracy\n",
    "We are going to use `matplotlib` to plot our training and validation metrics."
   ]
  },
  {
   "cell_type": "code",
   "execution_count": 11,
   "metadata": {
    "colab": {
     "autoexec": {
      "startup": false,
      "wait_interval": 0
     }
    },
    "colab_type": "code",
    "id": "kcBHF0rKt4Rn"
   },
   "outputs": [
    {
     "data": {
      "image/png": "[encoded data removed]",
      "text/plain": [
       "<Figure size 432x288 with 1 Axes>"
      ]
     },
     "metadata": {
      "needs_background": "light"
     },
     "output_type": "display_data"
    }
   ],
   "source": [
    "%matplotlib inline\n",
    "import matplotlib.pyplot as plt\n",
    "\n",
    "epochs = range(1, EPOCHS + 1)\n",
    "\n",
    "# \"bo\" specifies \"blue dot\"\n",
    "plt.plot(epochs, tr_loss_list, 'bo', label='Training loss')\n",
    "# b specifies a \"solid blue line\"\n",
    "plt.plot(epochs, val_loss_list, 'b', label='Validation loss')\n",
    "plt.title('Training and validation loss')\n",
    "plt.xlabel('Epochs')\n",
    "plt.ylabel('Loss')\n",
    "plt.legend()\n",
    "\n",
    "plt.show()"
   ]
  },
  {
   "cell_type": "code",
   "execution_count": 12,
   "metadata": {
    "colab": {
     "autoexec": {
      "startup": false,
      "wait_interval": 0
     }
    },
    "colab_type": "code",
    "id": "sx1Vg_1qvT5D"
   },
   "outputs": [
    {
     "data": {
      "image/png": "[encoded data removed]",
      "text/plain": [
       "<Figure size 432x288 with 1 Axes>"
      ]
     },
     "metadata": {
      "needs_background": "light"
     },
     "output_type": "display_data"
    }
   ],
   "source": [
    "plt.clf()   # Clear plot\n",
    "\n",
    "plt.plot(epochs, tr_accuracy_list, 'bo', label='Training accuracy')\n",
    "plt.plot(epochs, val_accuracy_list, 'b', label='Validation accuracy')\n",
    "plt.title('Training and validation accuracy')\n",
    "plt.xlabel('Epochs')\n",
    "plt.ylabel('Accuracy')\n",
    "plt.legend()\n",
    "\n",
    "plt.show()"
   ]
  },
  {
   "cell_type": "markdown",
   "metadata": {
    "colab_type": "text",
    "id": "rX_qklYwvak2"
   },
   "source": [
    "### Step 9) Testing your model\n",
    "Now that we have successfully trained our model and our training accuracy has jumped over 95%, we need to test it on an entirely different dataset. We are going to run our model on the test set. The test accuracy is a better evaluation metric for how our model will perform in the real world. "
   ]
  },
  {
   "cell_type": "code",
   "execution_count": 13,
   "metadata": {
    "colab": {
     "autoexec": {
      "startup": false,
      "wait_interval": 0
     }
    },
    "colab_type": "code",
    "id": "Oghmxes4vhs-"
   },
   "outputs": [
    {
     "name": "stdout",
     "output_type": "stream",
     "text": [
      "25000/25000==============================] - 1s 59us/sample - loss: 0.4031 - binary_accuracy: 0.8637\n",
      "Test accuracy: 0.86\n"
     ]
    }
   ],
   "source": [
    "loss, accuracy = model.evaluate(test_data, test_labels)\n",
    "print('Test accuracy: %.2f' % (accuracy))"
   ]
  },
  {
   "cell_type": "markdown",
   "metadata": {
    "colab_type": "text",
    "id": "bl7gZC_lvxyD"
   },
   "source": [
    "## Congratulations\n",
    "You have successfully trained a model on the IMDB dataset."
   ]
  },
  {
   "cell_type": "code",
   "execution_count": null,
   "metadata": {},
   "outputs": [],
   "source": []
  }
 ],
 "metadata": {
  "colab": {
   "collapsed_sections": [],
   "default_view": {},
   "name": "3-imdb.ipynb",
   "provenance": [],
   "version": "0.3.2",
   "views": {}
  },
  "kernelspec": {
   "display_name": "Python 3",
   "language": "python",
   "name": "python3"
  },
  "language_info": {
   "codemirror_mode": {
    "name": "ipython",
    "version": 3
   },
   "file_extension": ".py",
   "mimetype": "text/x-python",
   "name": "python",
   "nbconvert_exporter": "python",
   "pygments_lexer": "ipython3",
   "version": "3.6.7"
  }
 },
 "nbformat": 4,
 "nbformat_minor": 1
}
